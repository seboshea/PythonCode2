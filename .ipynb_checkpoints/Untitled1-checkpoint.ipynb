{
 "cells": [
  {
   "cell_type": "code",
   "execution_count": 1,
   "metadata": {},
   "outputs": [
    {
     "name": "stderr",
     "output_type": "stream",
     "text": [
      "C:\\Python\\lib\\site-packages\\h5py\\__init__.py:36: FutureWarning: Conversion of the second argument of issubdtype from `float` to `np.floating` is deprecated. In future, it will be treated as `np.float64 == np.dtype(float).type`.\n",
      "  from ._conv import register_converters as _register_converters\n"
     ]
    }
   ],
   "source": [
    "from PICASSO_functions import DataPaths, LoadFlightData2Dict\n",
    "import matplotlib.pyplot as plt "
   ]
  },
  {
   "cell_type": "markdown",
   "metadata": {},
   "source": [
    "Load flight C081 data"
   ]
  },
  {
   "cell_type": "code",
   "execution_count": 4,
   "metadata": {},
   "outputs": [
    {
     "name": "stderr",
     "output_type": "stream",
     "text": [
      "C:\\Users\\Admin TEMP\\Dropbox (Personal)\\PythonFunctions\\MyFunctions.py:340: RuntimeWarning: invalid value encountered in greater\n",
      "  TWC_g_m3=np.array(NevData['TWC'][:])\n",
      "C:\\Users\\Admin TEMP\\Dropbox (Personal)\\PythonFunctions\\MyFunctions.py:341: RuntimeWarning: invalid value encountered in greater\n",
      "  LWC_g_m3=np.array(NevData['LWC'][:])\n"
     ]
    }
   ],
   "source": [
    "PathDict=DataPaths()\n",
    "FlightDict_C081=LoadFlightData2Dict(1,0,1,0,'C081',PathDict)"
   ]
  },
  {
   "cell_type": "code",
   "execution_count": 5,
   "metadata": {},
   "outputs": [],
   "source": [
    "TWC_021=FlightDict_C081['TWC_021']\n",
    "TWC_083=FlightDict_C081['TWC_083']\n",
    "TWC_g_m3=FlightDict_C081['TWC_g_m3']\n",
    "LWC_021=FlightDict_C081['LWC_021']\n",
    "LWC_083=FlightDict_C081['LWC_083']\n",
    "LWC_g_m3=FlightDict_C081['LWC_g_m3']\n",
    "CDP_gm3=FlightDict_C081['CDP_gm3']\n",
    "Time_Core=FlightDict_C081['Time_Core']"
   ]
  },
  {
   "cell_type": "code",
   "execution_count": null,
   "metadata": {},
   "outputs": [],
   "source": []
  }
 ],
 "metadata": {
  "kernelspec": {
   "display_name": "Python 3",
   "language": "python",
   "name": "python3"
  },
  "language_info": {
   "codemirror_mode": {
    "name": "ipython",
    "version": 3
   },
   "file_extension": ".py",
   "mimetype": "text/x-python",
   "name": "python",
   "nbconvert_exporter": "python",
   "pygments_lexer": "ipython3",
   "version": "3.6.4"
  }
 },
 "nbformat": 4,
 "nbformat_minor": 2
}
