{
 "cells": [
  {
   "cell_type": "code",
   "execution_count": 13,
   "metadata": {},
   "outputs": [],
   "source": [
    "%load_ext autoreload\n",
    "import numpy as np\n",
    "import matplotlib.pyplot as plt  \n",
    "import datetime\n",
    "import h5py\n",
    "from matplotlib.dates import DateFormatter\n",
    "import bisect\n",
    "import csv\n",
    "from MyFunctions import is_number, BinLinear\n",
    "import os\n",
    "from numpy import genfromtxt\n",
    "import bisect\n",
    "from matplotlib.ticker import MultipleLocator, FormatStrFormatter\n",
    "import datetime\n",
    "\n",
    "from MyFunctions import LoadCoreCloud,loadFAAMCore,LoadNevzorov, Average_nPts_2D\n",
    "from MyFunctions import Average_nPts,Average_nPts_datetime,DateTime2IgorTime,ChangeTimeBaseAvg,ChangeTimeBase2DAvg\n",
    "\n",
    "from PICASSO_functions import PlotCrossSections2CHB,PlotCrossSections, LoadFlightData2Dict, DataPaths,PlotFlightSummary, AverageFlightDict,BrownFrancis,CompareIWC,PlotFlight,BatchPlotCDPCore,TrackPlot\n",
    "from PICASSO_functions import a_b_MonteCarlo_hist,Find_a_b_MonteCarlo,Find_a_b,AddRadar2FlightDict,Plot_TvsHI, LoadFlightSummaryCSV, PSD_runs_dict,CompositePSD, SingleRunPSD, CalculateMVD, LoadRadar, Colocate, PlotRadar, BinAverage2D\n",
    "\n"
   ]
  },
  {
   "cell_type": "markdown",
   "metadata": {},
   "source": [
    "Load data paths"
   ]
  },
  {
   "cell_type": "code",
   "execution_count": null,
   "metadata": {},
   "outputs": [],
   "source": [
    "PathDict=DataPaths()\n"
   ]
  },
  {
   "cell_type": "markdown",
   "metadata": {},
   "source": [
    "Load data for flight C081"
   ]
  },
  {
   "cell_type": "code",
   "execution_count": 14,
   "metadata": {
    "scrolled": true
   },
   "outputs": [
    {
     "name": "stderr",
     "output_type": "stream",
     "text": [
      "C:\\Users\\Admin TEMP\\Dropbox (Personal)\\PythonFunctions\\PICASSO_functions.py:949: RuntimeWarning: invalid value encountered in greater_equal\n",
      "  RadialFlag=np.where(((HDG_GIN>=230) & (HDG_GIN<=251)) | ((HDG_GIN>=60) & (HDG_GIN<=80)),1,0)\n",
      "C:\\Users\\Admin TEMP\\Dropbox (Personal)\\PythonFunctions\\PICASSO_functions.py:949: RuntimeWarning: invalid value encountered in less_equal\n",
      "  RadialFlag=np.where(((HDG_GIN>=230) & (HDG_GIN<=251)) | ((HDG_GIN>=60) & (HDG_GIN<=80)),1,0)\n",
      "C:\\Users\\Admin TEMP\\Dropbox (Personal)\\PythonFunctions\\PICASSO_functions.py:950: RuntimeWarning: invalid value encountered in greater_equal\n",
      "  RadialFlag=np.where(((LAT_GIN>=50.81) & (LAT_GIN<=51.15)) & ((LON_GIN>=-2.6) & (LON_GIN<=-1.4)),RadialFlag,0)\n",
      "C:\\Users\\Admin TEMP\\Dropbox (Personal)\\PythonFunctions\\PICASSO_functions.py:950: RuntimeWarning: invalid value encountered in less_equal\n",
      "  RadialFlag=np.where(((LAT_GIN>=50.81) & (LAT_GIN<=51.15)) & ((LON_GIN>=-2.6) & (LON_GIN<=-1.4)),RadialFlag,0)\n",
      "C:\\Users\\Admin TEMP\\Dropbox (Personal)\\PythonFunctions\\MyFunctions.py:292: RuntimeWarning: invalid value encountered in greater\n",
      "  TWC_g_m3=np.array(NevData['TWC'][:])\n",
      "C:\\Users\\Admin TEMP\\Dropbox (Personal)\\PythonFunctions\\MyFunctions.py:293: RuntimeWarning: invalid value encountered in greater\n",
      "  LWC_g_m3=np.array(NevData['LWC'][:])\n"
     ]
    },
    {
     "name": "stdout",
     "output_type": "stream",
     "text": [
      "C:/Users/Admin TEMP/Documents/PICASSO/RadarData/Time series/\n",
      "Timeseries_Down_20180213065439.mat\n",
      "C:/Users/Admin TEMP/Documents/PICASSO/RadarData/Time series/\n",
      "Timeseries_Down_20180213073652.mat\n",
      "C:/Users/Admin TEMP/Documents/PICASSO/RadarData/Time series/\n",
      "Timeseries_Up_20180213065439.mat\n",
      "C:/Users/Admin TEMP/Documents/PICASSO/RadarData/Time series/\n",
      "Timeseries_Up_20180213073652.mat\n",
      "C:/Users/Admin TEMP/Documents/PICASSO/RadarData/Time series/\n",
      "Timeseries_Up_20180213080941.mat\n"
     ]
    },
    {
     "data": {
      "image/png": "[encoded data removed]",
      "text/plain": [
       "<matplotlib.figure.Figure at 0x1cd00d1e0b8>"
      ]
     },
     "metadata": {},
     "output_type": "display_data"
    }
   ],
   "source": [
    "FlightDict_C081=LoadFlightData2Dict(1,1,1,'C081',PathDict)\n",
    "AddRadar2FlightDict(FlightDict_C081)"
   ]
  },
  {
   "cell_type": "markdown",
   "metadata": {},
   "source": [
    "Load RHI data"
   ]
  },
  {
   "cell_type": "code",
   "execution_count": 4,
   "metadata": {},
   "outputs": [
    {
     "name": "stdout",
     "output_type": "stream",
     "text": [
      "odict_keys(['file_state', 'latitude', 'longitude', 'height', 'frequency', 'prf', 'beamwidthH', 'beamwidthV', 'antenna_diameter', 'pulse_period', 'transmit_power', 'clock', 'range', 'unaveraged_range', 'time', 'dish_time', 'elevation', 'azimuth', 'ZED_H', 'ZDR', 'LDR', 'CXC', 'unaveragedCXC', 'PDP', 'VEL_HV', 'DDV', 'SPW_HV', 'PHI_HV', 'PHI_HVD', 'L', 'clutter', 'r', 'z'])\n"
     ]
    },
    {
     "name": "stderr",
     "output_type": "stream",
     "text": [
      "C:\\Users\\Admin TEMP\\Dropbox (Personal)\\PythonFunctions\\PICASSO_functions.py:1778: RuntimeWarning: invalid value encountered in greater\n",
      "  ZED_H=np.array(RadarData['ZED_H'][:])\n"
     ]
    }
   ],
   "source": [
    "#Filename='20180213_0552_CAMRA_RHI.nc'\n",
    "Filename='20180213_0652_CAMRA_RHI.nc'\n",
    "#Filename='20180213_0734_CAMRA_RHI.nc'\n",
    "RadarData, ZED_H_1D,Distance_1D,Altitude_1D, Range, Elevation=LoadRadar(Filename)"
   ]
  },
  {
   "cell_type": "code",
   "execution_count": null,
   "metadata": {},
   "outputs": [],
   "source": []
  }
 ],
 "metadata": {
  "kernelspec": {
   "display_name": "Python 3",
   "language": "python",
   "name": "python3"
  },
  "language_info": {
   "codemirror_mode": {
    "name": "ipython",
    "version": 3
   },
   "file_extension": ".py",
   "mimetype": "text/x-python",
   "name": "python",
   "nbconvert_exporter": "python",
   "pygments_lexer": "ipython3",
   "version": "3.6.4"
  }
 },
 "nbformat": 4,
 "nbformat_minor": 2
}
